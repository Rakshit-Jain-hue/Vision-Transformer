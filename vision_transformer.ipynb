{
  "nbformat": 4,
  "nbformat_minor": 0,
  "metadata": {
    "colab": {
      "provenance": [],
      "gpuType": "T4",
      "authorship_tag": "ABX9TyPAwu7VXHZUWydVXMR880dZ",
      "include_colab_link": true
    },
    "kernelspec": {
      "name": "python3",
      "display_name": "Python 3"
    },
    "language_info": {
      "name": "python"
    },
    "accelerator": "GPU"
  },
  "cells": [
    {
      "cell_type": "markdown",
      "metadata": {
        "id": "view-in-github",
        "colab_type": "text"
      },
      "source": [
        "<a href=\"https://colab.research.google.com/github/Rakshit-Jain-hue/Vision-Transformer/blob/main/vision_transformer.ipynb\" target=\"_parent\"><img src=\"https://colab.research.google.com/assets/colab-badge.svg\" alt=\"Open In Colab\"/></a>"
      ]
    },
    {
      "cell_type": "code",
      "source": [
        "!pip install tensorflow-addons"
      ],
      "metadata": {
        "colab": {
          "base_uri": "https://localhost:8080/"
        },
        "id": "ptf1vlVzsSe_",
        "outputId": "b0e4748b-5bbb-43a3-a640-623b2d6a4c9b"
      },
      "execution_count": null,
      "outputs": [
        {
          "output_type": "stream",
          "name": "stdout",
          "text": [
            "Collecting tensorflow-addons\n",
            "  Downloading tensorflow_addons-0.23.0-cp310-cp310-manylinux_2_17_x86_64.manylinux2014_x86_64.whl (611 kB)\n",
            "\u001b[?25l     \u001b[90m━━━━━━━━━━━━━━━━━━━━━━━━━━━━━━━━━━━━━━━━\u001b[0m \u001b[32m0.0/611.8 kB\u001b[0m \u001b[31m?\u001b[0m eta \u001b[36m-:--:--\u001b[0m\r\u001b[2K     \u001b[91m━━━━\u001b[0m\u001b[90m╺\u001b[0m\u001b[90m━━━━━━━━━━━━━━━━━━━━━━━━━━━━━━━━━━━\u001b[0m \u001b[32m61.4/611.8 kB\u001b[0m \u001b[31m4.9 MB/s\u001b[0m eta \u001b[36m0:00:01\u001b[0m\r\u001b[2K     \u001b[91m━━━━━━━━━━━━━━━━━━━━━━━━━━━━━━━━━━━━━━━\u001b[0m\u001b[91m╸\u001b[0m \u001b[32m604.2/611.8 kB\u001b[0m \u001b[31m13.6 MB/s\u001b[0m eta \u001b[36m0:00:01\u001b[0m\r\u001b[2K     \u001b[90m━━━━━━━━━━━━━━━━━━━━━━━━━━━━━━━━━━━━━━━━\u001b[0m \u001b[32m611.8/611.8 kB\u001b[0m \u001b[31m11.3 MB/s\u001b[0m eta \u001b[36m0:00:00\u001b[0m\n",
            "\u001b[?25hRequirement already satisfied: packaging in /usr/local/lib/python3.10/dist-packages (from tensorflow-addons) (24.0)\n",
            "Collecting typeguard<3.0.0,>=2.7 (from tensorflow-addons)\n",
            "  Downloading typeguard-2.13.3-py3-none-any.whl (17 kB)\n",
            "Installing collected packages: typeguard, tensorflow-addons\n",
            "Successfully installed tensorflow-addons-0.23.0 typeguard-2.13.3\n"
          ]
        }
      ]
    },
    {
      "cell_type": "code",
      "execution_count": null,
      "metadata": {
        "colab": {
          "base_uri": "https://localhost:8080/"
        },
        "id": "EAciPirmlqQD",
        "outputId": "b03293c2-f48f-4d6e-eafb-2f45f44c3d85"
      },
      "outputs": [
        {
          "output_type": "stream",
          "name": "stderr",
          "text": [
            "/usr/local/lib/python3.10/dist-packages/tensorflow_addons/utils/tfa_eol_msg.py:23: UserWarning: \n",
            "\n",
            "TensorFlow Addons (TFA) has ended development and introduction of new features.\n",
            "TFA has entered a minimal maintenance and release mode until a planned end of life in May 2024.\n",
            "Please modify downstream libraries to take dependencies from other repositories in our TensorFlow community (e.g. Keras, Keras-CV, and Keras-NLP). \n",
            "\n",
            "For more information see: https://github.com/tensorflow/addons/issues/2807 \n",
            "\n",
            "  warnings.warn(\n"
          ]
        }
      ],
      "source": [
        "import numpy as np\n",
        "import tensorflow as tf\n",
        "from tensorflow import keras\n",
        "from tensorflow.keras import layers\n",
        "import tensorflow_addons as tfa"
      ]
    },
    {
      "cell_type": "code",
      "source": [
        "num_classes = 10\n",
        "input_shape = (32,32,3)\n",
        "(X_train, y_train), (X_test, y_test) = keras.datasets.cifar10.load_data()\n",
        "print(f\"X_train shape: {X_train.shape} - y_train shape: {y_train.shape}\")\n",
        "print(f\"X_test shape: {X_test.shape} - y_test shape: {y_test.shape}\")"
      ],
      "metadata": {
        "colab": {
          "base_uri": "https://localhost:8080/"
        },
        "id": "Kfqrb11gtKXu",
        "outputId": "7ba4b52d-ecff-4806-bd26-57b94e8f0018"
      },
      "execution_count": null,
      "outputs": [
        {
          "output_type": "stream",
          "name": "stdout",
          "text": [
            "Downloading data from https://www.cs.toronto.edu/~kriz/cifar-10-python.tar.gz\n",
            "170498071/170498071 [==============================] - 13s 0us/step\n",
            "X_train shape: (50000, 32, 32, 3) - y_train shape: (50000, 1)\n",
            "X_test shape: (10000, 32, 32, 3) - y_test shape: (10000, 1)\n"
          ]
        }
      ]
    },
    {
      "cell_type": "code",
      "source": [
        "input_shape = (32,32,3)"
      ],
      "metadata": {
        "id": "02rz6eg4CgrS"
      },
      "execution_count": null,
      "outputs": []
    },
    {
      "cell_type": "code",
      "source": [
        "learning_rate = 0.001\n",
        "weight_decay = 0.0001\n",
        "batch_size = 256\n",
        "num_epochs = 40\n",
        "image_size = 72 #We will resize the images\n",
        "patch_size = 6 #Size of the patches to be extract from the input images\n",
        "num_patches = (image_size // patch_size) ** 2\n",
        "projection_dim = 64\n",
        "num_heads = 4\n",
        "transformer_units = [\n",
        "    projection_dim*2,\n",
        "    projection_dim\n",
        "]\n",
        "transformer_layers = 8\n",
        "mlp_head_units = [2048, 1024] #Size of the dense layers of the final classifier"
      ],
      "metadata": {
        "id": "VrN_4S6uuvjx"
      },
      "execution_count": null,
      "outputs": []
    },
    {
      "cell_type": "code",
      "source": [
        "data_augmentation = keras.Sequential(\n",
        "    [\n",
        "    layers.Normalization(trainable=False),\n",
        "    layers.Resizing(image_size, image_size),\n",
        "    layers.RandomFlip(\"horizontal\"),\n",
        "    layers.RandomRotation(factor=0.02),\n",
        "    layers.RandomZoom(\n",
        "        height_factor = 0.2,\n",
        "        width_factor = 0.2\n",
        "    )\n",
        "    ],\n",
        "    name=\"data_augmentation\"\n",
        ")\n",
        "data_augmentation.layers[0].adapt(X_train)"
      ],
      "metadata": {
        "id": "vT7GyyypxKto"
      },
      "execution_count": null,
      "outputs": []
    },
    {
      "cell_type": "code",
      "source": [
        "def mlp(x, hidden_units, dropout_rate):\n",
        "  for units in hidden_units:\n",
        "    x = layers.Dense(units, activation = tf.nn.gelu)(x)\n",
        "    x = layers.Dropout(dropout_rate)(x)\n",
        "  return x"
      ],
      "metadata": {
        "id": "h-AD-F9f0SVd"
      },
      "execution_count": null,
      "outputs": []
    },
    {
      "cell_type": "code",
      "source": [
        "class Patches(layers.Layer):\n",
        "  def __init__(self, patch_size):\n",
        "    super(Patches, self).__init__()\n",
        "    self.patch_size = patch_size\n",
        "\n",
        "  def call(self, images):\n",
        "    batch_size = tf.shape(images)[0]\n",
        "    patches = tf.image.extract_patches(\n",
        "        images = images,\n",
        "        sizes = [1, self.patch_size, self.patch_size, 1],\n",
        "        strides = [1, self.patch_size, self.patch_size, 1],\n",
        "        rates = [1, 1, 1, 1],\n",
        "        padding = \"VALID\",\n",
        "    )\n",
        "    patch_dims =  patches.shape[-1]\n",
        "    patches = tf.reshape(patches, [batch_size, -1, patch_dims])\n",
        "    return patches"
      ],
      "metadata": {
        "id": "sIrN1oZR2ThF"
      },
      "execution_count": null,
      "outputs": []
    },
    {
      "cell_type": "code",
      "source": [
        "import matplotlib.pyplot as plt\n",
        "\n",
        "plt.figure(figsize=(4,4))\n",
        "image = X_train[np.random.choice(range(X_train.shape[0]))]\n",
        "plt.imshow(image.astype(\"uint8\"))\n",
        "plt.axis(\"off\")\n",
        "\n",
        "resized_image = tf.image.resize(\n",
        "    tf.convert_to_tensor([image]), size=(image_size, image_size)\n",
        ")\n",
        "patches = Patches(patch_size)(resized_image)\n",
        "print(f\"Image size: {image_size} X {image_size}\")\n",
        "print(f\"Patch_size: {patch_size} X {patch_size}\")\n",
        "print(f\"Patches per image: {patches.shape[1]}\")\n",
        "print(f\"Elements per patch: {patches.shape[-1]}\")\n",
        "\n",
        "n = int(np.sqrt(patches.shape[1]))\n",
        "plt.figure(figsize = (4,4))\n",
        "for i, patch in enumerate(patches[0]):\n",
        "  ax = plt.subplot(n, n, i+1)\n",
        "  patch_img = tf.reshape(patch, (patch_size, patch_size, 3))\n",
        "  plt.imshow(patch_img.numpy().astype(\"uint8\"))\n",
        "  plt.axis(\"off\")"
      ],
      "metadata": {
        "colab": {
          "base_uri": "https://localhost:8080/",
          "height": 746
        },
        "id": "io7g2Hs9Vfnq",
        "outputId": "796f0f59-1a62-4e48-f78d-5910f3543a6b"
      },
      "execution_count": null,
      "outputs": [
        {
          "output_type": "stream",
          "name": "stdout",
          "text": [
            "Image size: 72 X 72\n",
            "Patch_size: 6 X 6\n",
            "Patches per image: 144\n",
            "Elements per patch: 108\n"
          ]
        },
        {
          "output_type": "display_data",
          "data": {
            "text/plain": [
              "<Figure size 400x400 with 1 Axes>"
            ],
            "image/png": "[encoded data removed]"
          },
          "metadata": {}
        },
        {
          "output_type": "display_data",
          "data": {
            "text/plain": [
              "<Figure size 400x400 with 144 Axes>"
            ],
            "image/png": "[encoded data removed]"
          },
          "metadata": {}
        }
      ]
    },
    {
      "cell_type": "code",
      "source": [
        "class PatchEncoder(layers.Layer):\n",
        "  def __init__(self, num_patches, projection_dim):\n",
        "    super(PatchEncoder,self).__init__()\n",
        "    self.num_patches = num_patches\n",
        "    self.projection = layers.Dense(units=projection_dim)\n",
        "    self.position_embedding = layers.Embedding(\n",
        "        input_dim = num_patches, output_dim = projection_dim\n",
        "    )\n",
        "\n",
        "  def call(self,patch):\n",
        "    positions = tf.range(start=0, limit=self.num_patches, delta=1)\n",
        "    encoded =self.projection(patch) + self.position_embedding(positions)\n",
        "    return encoded"
      ],
      "metadata": {
        "id": "Hs_NVV6rZCIE"
      },
      "execution_count": null,
      "outputs": []
    },
    {
      "cell_type": "code",
      "source": [
        "def create_vit_classifier():\n",
        "  inputs = layers.Input(shape=input_shape)\n",
        "  #Augment data.\n",
        "  augmented = data_augmentation(inputs)\n",
        "  #create patches\n",
        "  patches = Patches(patch_size)(augmented)\n",
        "  #encode patches.\n",
        "  encoded_patches = PatchEncoder(num_patches,projection_dim)(patches)\n",
        "\n",
        "  #create multiple layers of the transformer block\n",
        "  for _ in range(transformer_layers):\n",
        "    #layer normalization 1\n",
        "    x1 = layers.LayerNormalization(epsilon=1e-6)(encoded_patches)\n",
        "    #create a multi-head attention layer\n",
        "    attention_output = layers.MultiHeadAttention(\n",
        "        num_heads=num_heads, key_dim=projection_dim, dropout=0.1\n",
        "    )(x1,x1)\n",
        "    #skip connection1\n",
        "    x2 = layers.Add()([attention_output,encoded_patches])\n",
        "    #layer normalization2\n",
        "    x3= layers.LayerNormalization(epsilon=1e-6)(x2)\n",
        "    #MlP\n",
        "    x3 = mlp(x3, hidden_units = transformer_units, dropout_rate=0.1)\n",
        "    #skipconnection2.\n",
        "    encoded_patches = layers.Add()([x3,x2])\n",
        "\n",
        "  #create a [batch_size , projection_dim]tensor\n",
        "\n",
        "  representation = layers.LayerNormalization(epsilon=1e-6)(encoded_patches)\n",
        "  representation = layers.Flatten()(representation)\n",
        "  representation = layers.Dropout(0.5)(representation)\n",
        "  #add mlp.\n",
        "  features = mlp(representation,hidden_units=mlp_head_units, dropout_rate=0.5)\n",
        "  #classify outputs.\n",
        "  logits = layers.Dense(num_classes)(features)\n",
        "  #create the Keras Model\n",
        "  model = keras.models.Model(inputs=inputs, outputs=logits)\n",
        "  return model"
      ],
      "metadata": {
        "id": "KG15dvWcBt-h"
      },
      "execution_count": null,
      "outputs": []
    },
    {
      "cell_type": "code",
      "source": [
        "def run_experiment(model):\n",
        "  optimizer = tfa.optimizers.AdamW(\n",
        "      learning_rate=learning_rate, weight_decay=weight_decay\n",
        "  )\n",
        "\n",
        "  model.compile(\n",
        "      optimizer=optimizer,\n",
        "      loss=keras.losses.SparseCategoricalCrossentropy(from_logits=True),\n",
        "      metrics=[\n",
        "          keras.metrics.SparseCategoricalAccuracy(name=\"accuracy\"),\n",
        "          keras.metrics.SparseTopKCategoricalAccuracy(5,name=\"top-5-accuracy\"),\n",
        "      ],\n",
        "  )\n",
        "\n",
        "\n",
        "  checkpoint_filepath = \"./temp/checkpoint\"\n",
        "  checkpoint_callback = keras.callbacks.ModelCheckpoint(\n",
        "        checkpoint_filepath,\n",
        "        monitor=\"val_accuracy\",\n",
        "        save_best_only=True,\n",
        "        save_weights_only=True,\n",
        "  )\n",
        "\n",
        "  history = model.fit(\n",
        "      x=X_train,\n",
        "      y=y_train,\n",
        "      batch_size=batch_size,\n",
        "      epochs=num_epochs,\n",
        "      validation_split=0.1,\n",
        "      callbacks=[checkpoint_callback]\n",
        "  )\n",
        "\n",
        "  model.load_weights(checkpoint_filepath)\n",
        "  _, accuracy, top_5_accuracy = model.evaluate(X_test, y_test)\n",
        "  print(f\"Test accuracy: {round(accuracy*100,2)}%\")\n",
        "  print(f\"Test Top 5 accuracy:{round(top_5_accuracy*100,2)}%\")"
      ],
      "metadata": {
        "id": "fjWscUEvB49C"
      },
      "execution_count": null,
      "outputs": []
    },
    {
      "cell_type": "code",
      "source": [
        "vit_classifier = create_vit_classifier()\n",
        "history = run_experiment(vit_classifier)"
      ],
      "metadata": {
        "colab": {
          "base_uri": "https://localhost:8080/"
        },
        "id": "BSgkME4pCT-_",
        "outputId": "f6d4b78b-6ece-43a7-abcb-35c525c05f9d"
      },
      "execution_count": null,
      "outputs": [
        {
          "output_type": "stream",
          "name": "stdout",
          "text": [
            "Epoch 1/40\n",
            "176/176 [==============================] - 79s 389ms/step - loss: 2.0512 - accuracy: 0.3100 - top-5-accuracy: 0.8045 - val_loss: 1.5720 - val_accuracy: 0.4406 - val_top-5-accuracy: 0.9112\n",
            "Epoch 2/40\n",
            "176/176 [==============================] - 67s 380ms/step - loss: 1.5591 - accuracy: 0.4387 - top-5-accuracy: 0.9002 - val_loss: 1.2723 - val_accuracy: 0.5326 - val_top-5-accuracy: 0.9466\n",
            "Epoch 3/40\n",
            "176/176 [==============================] - 72s 407ms/step - loss: 1.3986 - accuracy: 0.4997 - top-5-accuracy: 0.9264 - val_loss: 1.1432 - val_accuracy: 0.5850 - val_top-5-accuracy: 0.9588\n",
            "Epoch 4/40\n",
            "176/176 [==============================] - 67s 379ms/step - loss: 1.2950 - accuracy: 0.5416 - top-5-accuracy: 0.9368 - val_loss: 1.0723 - val_accuracy: 0.6230 - val_top-5-accuracy: 0.9636\n",
            "Epoch 5/40\n",
            "176/176 [==============================] - 72s 410ms/step - loss: 1.2130 - accuracy: 0.5693 - top-5-accuracy: 0.9482 - val_loss: 1.0298 - val_accuracy: 0.6374 - val_top-5-accuracy: 0.9662\n",
            "Epoch 6/40\n",
            "176/176 [==============================] - 67s 382ms/step - loss: 1.1520 - accuracy: 0.5937 - top-5-accuracy: 0.9524 - val_loss: 0.9564 - val_accuracy: 0.6662 - val_top-5-accuracy: 0.9722\n",
            "Epoch 7/40\n",
            "176/176 [==============================] - 72s 408ms/step - loss: 1.0877 - accuracy: 0.6178 - top-5-accuracy: 0.9584 - val_loss: 0.9097 - val_accuracy: 0.6798 - val_top-5-accuracy: 0.9746\n",
            "Epoch 8/40\n",
            "176/176 [==============================] - 72s 409ms/step - loss: 1.0336 - accuracy: 0.6381 - top-5-accuracy: 0.9626 - val_loss: 0.8769 - val_accuracy: 0.6938 - val_top-5-accuracy: 0.9794\n",
            "Epoch 9/40\n",
            "176/176 [==============================] - 72s 412ms/step - loss: 1.0010 - accuracy: 0.6503 - top-5-accuracy: 0.9656 - val_loss: 0.8263 - val_accuracy: 0.7148 - val_top-5-accuracy: 0.9808\n",
            "Epoch 10/40\n",
            "176/176 [==============================] - 66s 373ms/step - loss: 0.9589 - accuracy: 0.6648 - top-5-accuracy: 0.9691 - val_loss: 0.8152 - val_accuracy: 0.7136 - val_top-5-accuracy: 0.9822\n",
            "Epoch 11/40\n",
            "176/176 [==============================] - 71s 406ms/step - loss: 0.9211 - accuracy: 0.6780 - top-5-accuracy: 0.9714 - val_loss: 0.7665 - val_accuracy: 0.7320 - val_top-5-accuracy: 0.9834\n",
            "Epoch 12/40\n",
            "176/176 [==============================] - 66s 374ms/step - loss: 0.8788 - accuracy: 0.6931 - top-5-accuracy: 0.9734 - val_loss: 0.7641 - val_accuracy: 0.7300 - val_top-5-accuracy: 0.9870\n",
            "Epoch 13/40\n",
            "176/176 [==============================] - 72s 409ms/step - loss: 0.8476 - accuracy: 0.7056 - top-5-accuracy: 0.9771 - val_loss: 0.7480 - val_accuracy: 0.7432 - val_top-5-accuracy: 0.9848\n",
            "Epoch 14/40\n",
            "176/176 [==============================] - 67s 381ms/step - loss: 0.8203 - accuracy: 0.7171 - top-5-accuracy: 0.9771 - val_loss: 0.7331 - val_accuracy: 0.7448 - val_top-5-accuracy: 0.9848\n",
            "Epoch 15/40\n",
            "176/176 [==============================] - 72s 409ms/step - loss: 0.7968 - accuracy: 0.7226 - top-5-accuracy: 0.9794 - val_loss: 0.7122 - val_accuracy: 0.7540 - val_top-5-accuracy: 0.9852\n",
            "Epoch 16/40\n",
            "176/176 [==============================] - 67s 383ms/step - loss: 0.7696 - accuracy: 0.7313 - top-5-accuracy: 0.9804 - val_loss: 0.6852 - val_accuracy: 0.7578 - val_top-5-accuracy: 0.9884\n",
            "Epoch 17/40\n",
            "176/176 [==============================] - 72s 411ms/step - loss: 0.7453 - accuracy: 0.7392 - top-5-accuracy: 0.9829 - val_loss: 0.6511 - val_accuracy: 0.7804 - val_top-5-accuracy: 0.9890\n",
            "Epoch 18/40\n",
            "176/176 [==============================] - 66s 373ms/step - loss: 0.7210 - accuracy: 0.7493 - top-5-accuracy: 0.9833 - val_loss: 0.6766 - val_accuracy: 0.7628 - val_top-5-accuracy: 0.9882\n",
            "Epoch 19/40\n",
            "176/176 [==============================] - 65s 372ms/step - loss: 0.6996 - accuracy: 0.7555 - top-5-accuracy: 0.9846 - val_loss: 0.6489 - val_accuracy: 0.7728 - val_top-5-accuracy: 0.9870\n",
            "Epoch 20/40\n",
            "176/176 [==============================] - 66s 373ms/step - loss: 0.6875 - accuracy: 0.7602 - top-5-accuracy: 0.9850 - val_loss: 0.6579 - val_accuracy: 0.7736 - val_top-5-accuracy: 0.9874\n",
            "Epoch 21/40\n",
            "176/176 [==============================] - 66s 374ms/step - loss: 0.6667 - accuracy: 0.7650 - top-5-accuracy: 0.9864 - val_loss: 0.6237 - val_accuracy: 0.7794 - val_top-5-accuracy: 0.9906\n",
            "Epoch 22/40\n",
            "176/176 [==============================] - 72s 408ms/step - loss: 0.6527 - accuracy: 0.7739 - top-5-accuracy: 0.9868 - val_loss: 0.6003 - val_accuracy: 0.7904 - val_top-5-accuracy: 0.9884\n",
            "Epoch 23/40\n",
            "176/176 [==============================] - 72s 409ms/step - loss: 0.6298 - accuracy: 0.7792 - top-5-accuracy: 0.9884 - val_loss: 0.5827 - val_accuracy: 0.7980 - val_top-5-accuracy: 0.9890\n",
            "Epoch 24/40\n",
            "176/176 [==============================] - 66s 372ms/step - loss: 0.6136 - accuracy: 0.7859 - top-5-accuracy: 0.9880 - val_loss: 0.6157 - val_accuracy: 0.7828 - val_top-5-accuracy: 0.9896\n",
            "Epoch 25/40\n",
            "176/176 [==============================] - 66s 373ms/step - loss: 0.6082 - accuracy: 0.7863 - top-5-accuracy: 0.9897 - val_loss: 0.5866 - val_accuracy: 0.7924 - val_top-5-accuracy: 0.9902\n",
            "Epoch 26/40\n",
            "176/176 [==============================] - 66s 378ms/step - loss: 0.5791 - accuracy: 0.7976 - top-5-accuracy: 0.9905 - val_loss: 0.5843 - val_accuracy: 0.8028 - val_top-5-accuracy: 0.9876\n",
            "Epoch 27/40\n",
            "176/176 [==============================] - 66s 373ms/step - loss: 0.5685 - accuracy: 0.7999 - top-5-accuracy: 0.9907 - val_loss: 0.5796 - val_accuracy: 0.8022 - val_top-5-accuracy: 0.9910\n",
            "Epoch 28/40\n",
            "176/176 [==============================] - 66s 373ms/step - loss: 0.5598 - accuracy: 0.8055 - top-5-accuracy: 0.9913 - val_loss: 0.5920 - val_accuracy: 0.8020 - val_top-5-accuracy: 0.9912\n",
            "Epoch 29/40\n",
            "176/176 [==============================] - 65s 371ms/step - loss: 0.5492 - accuracy: 0.8060 - top-5-accuracy: 0.9913 - val_loss: 0.5561 - val_accuracy: 0.8012 - val_top-5-accuracy: 0.9922\n",
            "Epoch 30/40\n",
            "176/176 [==============================] - 72s 410ms/step - loss: 0.5376 - accuracy: 0.8099 - top-5-accuracy: 0.9922 - val_loss: 0.5592 - val_accuracy: 0.8068 - val_top-5-accuracy: 0.9904\n",
            "Epoch 31/40\n",
            "176/176 [==============================] - 72s 410ms/step - loss: 0.5242 - accuracy: 0.8164 - top-5-accuracy: 0.9920 - val_loss: 0.5359 - val_accuracy: 0.8188 - val_top-5-accuracy: 0.9914\n",
            "Epoch 32/40\n",
            "176/176 [==============================] - 66s 373ms/step - loss: 0.5116 - accuracy: 0.8210 - top-5-accuracy: 0.9925 - val_loss: 0.5758 - val_accuracy: 0.8076 - val_top-5-accuracy: 0.9912\n",
            "Epoch 33/40\n",
            "176/176 [==============================] - 65s 372ms/step - loss: 0.5034 - accuracy: 0.8209 - top-5-accuracy: 0.9936 - val_loss: 0.5340 - val_accuracy: 0.8146 - val_top-5-accuracy: 0.9926\n",
            "Epoch 34/40\n",
            "176/176 [==============================] - 66s 373ms/step - loss: 0.4921 - accuracy: 0.8297 - top-5-accuracy: 0.9931 - val_loss: 0.5477 - val_accuracy: 0.8040 - val_top-5-accuracy: 0.9914\n",
            "Epoch 35/40\n",
            "176/176 [==============================] - 65s 371ms/step - loss: 0.4862 - accuracy: 0.8305 - top-5-accuracy: 0.9935 - val_loss: 0.5402 - val_accuracy: 0.8168 - val_top-5-accuracy: 0.9922\n",
            "Epoch 36/40\n",
            "176/176 [==============================] - 72s 410ms/step - loss: 0.4688 - accuracy: 0.8342 - top-5-accuracy: 0.9947 - val_loss: 0.5281 - val_accuracy: 0.8198 - val_top-5-accuracy: 0.9910\n",
            "Epoch 37/40\n",
            "176/176 [==============================] - 66s 374ms/step - loss: 0.4566 - accuracy: 0.8387 - top-5-accuracy: 0.9939 - val_loss: 0.5492 - val_accuracy: 0.8136 - val_top-5-accuracy: 0.9922\n",
            "Epoch 38/40\n",
            "176/176 [==============================] - 65s 371ms/step - loss: 0.4460 - accuracy: 0.8445 - top-5-accuracy: 0.9952 - val_loss: 0.5208 - val_accuracy: 0.8192 - val_top-5-accuracy: 0.9920\n",
            "Epoch 39/40\n",
            "176/176 [==============================] - 66s 372ms/step - loss: 0.4438 - accuracy: 0.8445 - top-5-accuracy: 0.9950 - val_loss: 0.5497 - val_accuracy: 0.8166 - val_top-5-accuracy: 0.9918\n",
            "Epoch 40/40\n",
            "176/176 [==============================] - 72s 412ms/step - loss: 0.4268 - accuracy: 0.8489 - top-5-accuracy: 0.9959 - val_loss: 0.5405 - val_accuracy: 0.8228 - val_top-5-accuracy: 0.9926\n",
            "313/313 [==============================] - 7s 23ms/step - loss: 0.5645 - accuracy: 0.8166 - top-5-accuracy: 0.9903\n",
            "Test accuracy: 81.66%\n",
            "Test Top 5 accuracy:99.03%\n"
          ]
        }
      ]
    },
    {
      "cell_type": "code",
      "source": [
        "class_names = [\n",
        "                'airplane'\n",
        "                'automobile'\n",
        "                'bird'\n",
        "                'cat'\n",
        "                'deer'\n",
        "                'dog'\n",
        "                'frog'\n",
        "                'horse'\n",
        "                'ship'\n",
        "                'truck'\n",
        "]"
      ],
      "metadata": {
        "id": "4NxBLzXFM6mJ"
      },
      "execution_count": null,
      "outputs": []
    },
    {
      "cell_type": "code",
      "source": [
        "def img_predict(images, model):\n",
        "  if len(images.shape) == 3:\n",
        "    out = model.predict(images.reshape(-1,*images.shape))\n",
        "  else:\n",
        "    out = model.predict(images)\n",
        "  prediction = np.argmax(out, axis = 1)\n",
        "  img_prediction = []\n",
        "  for i in prediction:\n",
        "    if i <= len(class_names):\n",
        "      img_prediction.append(class_names[i])\n",
        "    else:\n",
        "      img_prediction.append(\"Unknown\")\n",
        "  return img_prediction"
      ],
      "metadata": {
        "id": "qrC-WatENBrG"
      },
      "execution_count": null,
      "outputs": []
    },
    {
      "cell_type": "code",
      "source": [
        "index=16\n",
        "plt.imshow(X_test[index])\n",
        "prediction=img_predict(X_test[index],vit_classifier)\n",
        "print(prediction)"
      ],
      "metadata": {
        "colab": {
          "base_uri": "https://localhost:8080/",
          "height": 466
        },
        "id": "ynX5vcwyNDHY",
        "outputId": "ec32eb57-cf31-4a25-fa72-fece410fa013"
      },
      "execution_count": null,
      "outputs": [
        {
          "output_type": "stream",
          "name": "stdout",
          "text": [
            "1/1 [==============================] - 1s 1s/step\n",
            "['Unknown']\n"
          ]
        },
        {
          "output_type": "display_data",
          "data": {
            "text/plain": [
              "<Figure size 640x480 with 1 Axes>"
            ],
            "image/png": "[encoded data removed]"
          },
          "metadata": {}
        }
      ]
    }
  ]
}